{
 "cells": [
  {
   "cell_type": "code",
   "execution_count": 1,
   "metadata": {},
   "outputs": [],
   "source": [
    "import torch\n",
    "import torch.nn as nn\n",
    "import torch.nn.functional as F\n",
    "import time\n",
    "import numpy as np\n",
    "#import utils.fer.vgg as vgg\n",
    "import vgg as vgg\n"
   ]
  },
  {
   "cell_type": "code",
   "execution_count": 2,
   "metadata": {},
   "outputs": [],
   "source": [
    "import cv2 as cv"
   ]
  },
  {
   "cell_type": "code",
   "execution_count": 8,
   "metadata": {},
   "outputs": [],
   "source": [
    "def inference (video_file):\n",
    "    with_gpu = True\n",
    "    net = vgg.VGG('VGG19')\n",
    "    if with_gpu:\n",
    "        checkpoint = torch.load('/home/jug.971990/Ramakrishna/data_collection/src/utils/fer/test_model.t7', map_location=\"cuda:0\")\n",
    "    else:\n",
    "        checkpoint = torch.load('/home/jug.971990/Ramakrishna/data_collection/src/utils/fer/test_model.t7', map_location=torch.device('cpu'))\n",
    "    net.load_state_dict(checkpoint['net'])\n",
    "    if with_gpu:\n",
    "        device = torch.device(\"cuda:0\")\n",
    "        net = net.to(device)\n",
    "    net.eval()\n",
    "\n",
    "    face_cascade = cv.CascadeClassifier('haarcascade_frontalface_default.xml')\n",
    "\n",
    "    label2emotion = [\"Neutral\", \"Happy\", \"Sad\", \"Surprise\", \"Fear\", \"Disgust\", \"Anger\", \"Contempt\", \"None\", \"Uncertain\", \"Non-Face\"]\n",
    "    font = cv.FONT_HERSHEY_SIMPLEX\n",
    "    cap = cv.VideoCapture(video_file)\n",
    "\n",
    "    now = time.time()\n",
    "    while(True):\n",
    "     \n",
    "        ret, frame = cap.read()\n",
    "        if not ret:\n",
    "            break\n",
    "\n",
    "        faces = face_cascade.detectMultiScale(frame, scaleFactor=1.1, minNeighbors=1, \n",
    "                                          minSize=(100, 100), flags = cv.CASCADE_SCALE_IMAGE)\n",
    "        if(len(faces)):\n",
    "            (x,y,w,h) = faces[0]\n",
    "            face = frame[y:y+h,x:x+w]\n",
    "            cv.rectangle(frame, (x, y), (x+w, y+h), (0, 255, 0), 2) \n",
    "            final_face = cv.resize(face, (300,300), cv.INTER_CUBIC)\n",
    "    \n",
    "            input_face = final_face.astype(np.float32)\n",
    "            input_face = input_face/255.0\n",
    "            input_face = np.expand_dims(input_face, axis=0)\n",
    "            input_face = np.transpose(input_face, (0,3,1,2))\n",
    "            input_face = torch.FloatTensor(input_face)\n",
    "            if with_gpu:\n",
    "                input_face = input_face.to(device)\n",
    "            logits = net(input_face)\n",
    "            c=int(torch.argmax(logits,1))\n",
    "            prob = F.softmax(logits[0], dim=0)*100.0\n",
    "            cv.putText(frame,label2emotion[c],(100,50), font, 2,(0,0,255),2,cv.LINE_AA)\n",
    "            cv.putText(frame,\"Neutral %d\"%prob[0],(20,100), font, 1,(255,255,255),2,cv.LINE_AA)\n",
    "            cv.putText(frame,\"Happy %d\"%prob[1],(20,150), font, 1,(255,255,255),2,cv.LINE_AA)\n",
    "            cv.putText(frame,\"Sad %d\"%prob[2],(20,200), font, 1,(255,255,255),2,cv.LINE_AA)\n",
    "            cv.putText(frame,\"Surprise %d\"%prob[3],(20,250), font, 1,(255,255,255),2,cv.LINE_AA)\n",
    "            cv.putText(frame,\"Fear %d\"%prob[4],(20,300), font, 1,(255,255,255),2,cv.LINE_AA)\n",
    "            cv.putText(frame,\"Disgust %d\"%prob[5],(20,350), font, 1,(255,255,255),2,cv.LINE_AA)\n",
    "            cv.putText(frame,\"Anger %d\"%prob[6],(20,400), font, 1,(255,255,255),2,cv.LINE_AA)\n",
    "            cv.putText(frame,\"Contempt %d\"%prob[7],(20,450), font, 1,(255,255,255),2,cv.LINE_AA)\n",
    "\n",
    "            cv.imshow('frame',frame)\n",
    "            if cv.waitKey(1) & 0xFF == ord('q'):\n",
    "                break\n",
    "\n",
    "\n",
    "    cap.release()\n",
    "    cv.destroyAllWindows()"
   ]
  },
  {
   "cell_type": "code",
   "execution_count": 9,
   "metadata": {},
   "outputs": [],
   "source": [
    "inference('20190610_221401.avi')"
   ]
  },
  {
   "cell_type": "code",
   "execution_count": null,
   "metadata": {},
   "outputs": [],
   "source": []
  }
 ],
 "metadata": {
  "kernelspec": {
   "display_name": "Python 3",
   "language": "python",
   "name": "python3"
  },
  "language_info": {
   "codemirror_mode": {
    "name": "ipython",
    "version": 3
   },
   "file_extension": ".py",
   "mimetype": "text/x-python",
   "name": "python",
   "nbconvert_exporter": "python",
   "pygments_lexer": "ipython3",
   "version": "3.6.6"
  }
 },
 "nbformat": 4,
 "nbformat_minor": 2
}
